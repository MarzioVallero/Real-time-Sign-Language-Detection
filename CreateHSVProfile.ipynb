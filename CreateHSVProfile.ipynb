{
 "cells": [
  {
   "cell_type": "markdown",
   "metadata": {},
   "source": [
    "# Create a Custom HSV Profile\n",
    "\n",
    "This step is needed in order to ensure the best possible thresholding for skin tones in the image and should be manually configured once before using.  \n",
    "The default profile is derived from statistical data.  \n",
    "\n",
    "Be sure to be in the root directory of the project before running the following code boxes.\n",
    "\n",
    "We first import all the needed dependencies to run the script."
   ]
  },
  {
   "cell_type": "code",
   "execution_count": 6,
   "metadata": {},
   "outputs": [],
   "source": [
    "import cv2 \n",
    "import numpy as np\n",
    "from IPython.display import clear_output\n",
    "import tkinter as tk\n",
    "import ast\n",
    "import os\n",
    "import matplotlib\n",
    "matplotlib.use('Qt5Agg')\n",
    "import matplotlib.pyplot as plt\n",
    "from matplotlib.widgets import RangeSlider\n",
    "from PyQt5 import QtGui"
   ]
  },
  {
   "cell_type": "markdown",
   "metadata": {},
   "source": [
    "We then define two callback functions, linked to pressing the close button of the window and on keyboard interrupt.\n",
    "Pressing the close button or pressing \"Q\" on the keyboard will simply close the program without saving the config.dat file.\n",
    "Pressing \"E\" on the keyboard will instead save the config.dat file with the current HSV profile before closing."
   ]
  },
  {
   "cell_type": "code",
   "execution_count": 7,
   "metadata": {},
   "outputs": [],
   "source": [
    "# Window close handler\n",
    "def handle_close(event, cap):\n",
    "    cap.release()\n",
    "    plt.close('all')\n",
    "\n",
    "# Keyboard interrupt handler\n",
    "def on_press(event):\n",
    "    if event.key == 'q':\n",
    "        print(\"You pressed \" + event.key + \", the program exited without saving\")\n",
    "        cap.release()\n",
    "        plt.close('all')\n",
    "    elif event.key == 'e':\n",
    "        print(\"You pressed \" + event.key + \", the program saved and exited\")\n",
    "        cap.release()\n",
    "        file = open(\"Config\\config.dat\", \"w\")\n",
    "        configToStr = repr(config)\n",
    "        file.write(configToStr + \"\\n\")\n",
    "        file.close()\n",
    "        plt.close('all')"
   ]
  },
  {
   "cell_type": "code",
   "execution_count": 8,
   "metadata": {},
   "outputs": [],
   "source": [
    "# Setup camera capture\n",
    "cap = cv2.VideoCapture(0)\n",
    "width = int(cap.get(cv2.CAP_PROP_FRAME_WIDTH))\n",
    "height = int(cap.get(cv2.CAP_PROP_FRAME_HEIGHT))\n",
    "root = tk.Tk()\n",
    "screen_width = root.winfo_screenwidth()\n",
    "screen_height = root.winfo_screenheight()"
   ]
  },
  {
   "cell_type": "markdown",
   "metadata": {},
   "source": [
    "The following code box will generate the MatPlotLib window without displaying any output. You can check that the config.dat file has been correctly read before moving on. If no cofig.dat file is found, the program will provide a default statistically-relevant HSV skin thresholding model."
   ]
  },
  {
   "cell_type": "code",
   "execution_count": 9,
   "metadata": {},
   "outputs": [
    {
     "name": "stdout",
     "output_type": "stream",
     "text": [
      "Configuration file found\n",
      "\n"
     ]
    }
   ],
   "source": [
    "# Check if a configuration file exists, else load a predefined value set\n",
    "if os.path.isfile('Config\\config.dat'):\n",
    "    print(\"Configuration file found\\n\")\n",
    "    file = open(\"Config\\config.dat\", \"r\")\n",
    "    contents = file.read()\n",
    "    config = ast.literal_eval(contents)\n",
    "    file.close()\n",
    "else:\n",
    "    print (\"Configuration file not found\\n\")\n",
    "    config = {'HL': 0, 'SL': 29, 'VL': 24, 'HH': 40, 'SH': 255, 'VH': 255}        \n",
    "\n",
    "# Setup window\n",
    "plt.ion()\n",
    "imageWin = None\n",
    "fig, (ax1, ax2) = plt.subplots(1, 2, figsize=(10, 5))\n",
    "plt.subplots_adjust(bottom=0.25)\n",
    "fig.canvas.mpl_connect(\"close_event\", lambda event: handle_close(event, cap))\n",
    "fig.canvas.mpl_connect('key_press_event', on_press)\n",
    "plt.get_current_fig_manager().set_window_title('HSV Custom Profile Generator')\n",
    "title_obj = plt.title('HSV Custom Profile Generator')\n",
    "plt.setp(title_obj, color='#d4d4d4')\n",
    "fig.patch.set_facecolor('#1e1e1e')\n",
    "fig.patch.set_edgecolor('#1e1e1e')\n",
    "\n",
    "# Create the RangeSliders\n",
    "sliderAxHue = plt.axes([0.20, 0.2, 0.60, 0.03])\n",
    "sliderHue = RangeSlider(sliderAxHue, \"Hue\", valmin=0, valmax=255, valstep = 1)\n",
    "sliderHue.set_val((config[\"HL\"], config[\"HH\"]))\n",
    "sliderAxSat = plt.axes([0.20, 0.15, 0.60, 0.03])\n",
    "sliderSat = RangeSlider(sliderAxSat, \"Sat\", valmin=0, valmax=255, valstep = 1)\n",
    "sliderSat.set_val((config[\"SL\"], config[\"SH\"]))\n",
    "sliderAxVal = plt.axes([0.20, 0.1, 0.60, 0.03])\n",
    "sliderVal = RangeSlider(sliderAxVal, \"Val\", valmin=0, valmax=255, valstep = 1)\n",
    "sliderVal.set_val((config[\"VL\"], config[\"VH\"]))"
   ]
  },
  {
   "cell_type": "markdown",
   "metadata": {},
   "source": [
    "The following code box contains the main camera loop and displays the original camera frame on the left, the HSV frame thresholded according to the values read in the config dictionary on the right, other than 3 range sliders on the bottom, to be used in order to select the desired values for the Hue, Saturation and Value paramenters."
   ]
  },
  {
   "cell_type": "code",
   "execution_count": 10,
   "metadata": {},
   "outputs": [
    {
     "name": "stdout",
     "output_type": "stream",
     "text": [
      "You pressed e, the program saved and exited\n"
     ]
    }
   ],
   "source": [
    "# Calibration loop\n",
    "while cap.isOpened(): \n",
    "    ret, frame = cap.read()\n",
    "    \n",
    "    # Convert the frame to HSV and read trackbar inputs\n",
    "    hsv = cv2.cvtColor(frame,cv2.COLOR_BGR2HSV)\n",
    "    frame = cv2.cvtColor(frame,cv2.COLOR_BGR2RGB)\n",
    "\n",
    "    # Read RangeSliders' values\n",
    "    config[\"HL\"] = int(sliderHue.val[0])\n",
    "    config[\"HH\"] = int(sliderHue.val[1])\n",
    "    config[\"SL\"] = int(sliderSat.val[0])\n",
    "    config[\"SH\"] = int(sliderSat.val[1])\n",
    "    config[\"VL\"] = int(sliderVal.val[0])\n",
    "    config[\"VH\"] = int(sliderVal.val[1])\n",
    "    \n",
    "    # Perform thresholding according to the specified values\n",
    "    thresh = cv2.inRange(hsv, (config[\"HL\"], config[\"SL\"], config[\"VL\"]), (config[\"HH\"], config[\"SH\"], config[\"VH\"]))\n",
    "    \n",
    "    # Force redraw\n",
    "    fig.canvas.draw_idle()\n",
    "\n",
    "    # Show images\n",
    "    if imageWin is None:\n",
    "        plt.subplot(1, 2, 1).axis(\"off\")\n",
    "        imageWin = plt.imshow(frame, \"gray\")\n",
    "        title_obj = plt.title(\"Original Frame\")\n",
    "        plt.setp(title_obj, color='#d4d4d4')\n",
    "        plt.subplot(1, 2, 2).axis(\"off\")\n",
    "        threshWin = plt.imshow(thresh, \"gray\")\n",
    "        title_obj = plt.title(\"Thresholded Frame\")\n",
    "        plt.setp(title_obj, color='#d4d4d4')\n",
    "        plt.show()\n",
    "    else:\n",
    "        imageWin.set_data(frame)\n",
    "        threshWin.set_data(thresh)\n",
    "        fig.canvas.draw()\n",
    "        fig.canvas.flush_events() "
   ]
  },
  {
   "cell_type": "code",
   "execution_count": null,
   "metadata": {},
   "outputs": [],
   "source": []
  }
 ],
 "metadata": {
  "kernelspec": {
   "display_name": "Python 3 (ipykernel)",
   "language": "python",
   "name": "python3"
  },
  "language_info": {
   "codemirror_mode": {
    "name": "ipython",
    "version": 3
   },
   "file_extension": ".py",
   "mimetype": "text/x-python",
   "name": "python",
   "nbconvert_exporter": "python",
   "pygments_lexer": "ipython3",
   "version": "3.9.6"
  }
 },
 "nbformat": 4,
 "nbformat_minor": 2
}
