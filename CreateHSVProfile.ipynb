{
 "cells": [
  {
   "cell_type": "markdown",
   "metadata": {},
   "source": [
    "# Create a Custom HSV Profile\n",
    "\n",
    "This step is needed in order to ensure the best possible thresholding for skin tones in the image and should be manually configured once before using.  \n",
    "The default profile is derived from statistical data.  \n",
    "\n",
    "Be sure to be in the root directory of the project before running the following code boxes."
   ]
  },
  {
   "cell_type": "code",
   "execution_count": 1,
   "metadata": {},
   "outputs": [],
   "source": [
    "import cv2 \n",
    "import numpy as np\n",
    "from IPython.display import clear_output\n",
    "import tkinter as tk\n",
    "import ast\n",
    "import os"
   ]
  },
  {
   "cell_type": "code",
   "execution_count": 2,
   "metadata": {},
   "outputs": [],
   "source": [
    "# Setup camera capture\n",
    "cap = cv2.VideoCapture(0)\n",
    "width = int(cap.get(cv2.CAP_PROP_FRAME_WIDTH))\n",
    "height = int(cap.get(cv2.CAP_PROP_FRAME_HEIGHT))\n",
    "root = tk.Tk()\n",
    "screen_width = root.winfo_screenwidth()\n",
    "screen_height = root.winfo_screenheight()"
   ]
  },
  {
   "cell_type": "code",
   "execution_count": 3,
   "metadata": {},
   "outputs": [
    {
     "name": "stdout",
     "output_type": "stream",
     "text": [
      "Configuration file found\n",
      "\n"
     ]
    }
   ],
   "source": [
    "# Check if a configuration file exists, else load a predefined value set\n",
    "if os.path.isfile('Config\\config.dat'):\n",
    "    print(\"Configuration file found\\n\")\n",
    "    file = open(\"Config\\config.dat\", \"r\")\n",
    "    contents = file.read()\n",
    "    config = ast.literal_eval(contents)\n",
    "    file.close()\n",
    "else:\n",
    "    print (\"Configuration file not found\\n\")\n",
    "    config = {'HL': 0, 'SL': 29, 'VL': 24, 'HH': 40, 'SH': 255, 'VH': 255}\n",
    "\n",
    "def GUIHandle(x): #needed for createTrackbar to work in python.\n",
    "    pass \n",
    "    \n",
    "# Create the Instructions window\n",
    "cv2.namedWindow('Instructions', flags=cv2.WINDOW_AUTOSIZE)\n",
    "cv2.resizeWindow('Instructions', 400, height-320)\n",
    "cv2.moveWindow('Instructions', int(0.5*screen_width)-int(0.5*400), int(0.5*screen_height)-int(0.5*400)+320)\n",
    "instr = np.zeros((height-320, 400))\n",
    "cv2.putText(instr, 'Use E to confirm', (60, 60), cv2.FONT_HERSHEY_SIMPLEX, 1, (50, 50, 50), 2, cv2.LINE_AA)\n",
    "cv2.putText(instr, 'Use Q to exit', (90, 110), cv2.FONT_HERSHEY_SIMPLEX, 1, (50, 50, 50), 2, cv2.LINE_AA)\n",
    "cv2.imshow('Instructions', instr)\n",
    "\n",
    "# Create the Camera window\n",
    "cv2.namedWindow('Camera', flags=cv2.WINDOW_AUTOSIZE)\n",
    "cv2.moveWindow('Camera', int(0.5*screen_width)-int(0.5*400)-width, int(0.5*screen_height)-int(0.5*400))\n",
    "\n",
    "# Create the Thresholded image output window\n",
    "cv2.namedWindow('Threshold', flags=cv2.WINDOW_AUTOSIZE)\n",
    "cv2.moveWindow('Threshold', int(0.5*screen_width)+int(0.5*400), int(0.5*screen_height)-int(0.5*400))\n",
    "\n",
    "# Create the Trackbar needed to perform manual configuration\n",
    "cv2.namedWindow('Trackbar', flags=cv2.WINDOW_AUTOSIZE)\n",
    "cv2.resizeWindow('Trackbar', 400, 320)\n",
    "cv2.moveWindow('Trackbar', int(0.5*screen_width)-int(0.5*400), int(0.5*screen_height)-int(0.5*400))\n",
    "cv2.createTrackbar('Hue Low', 'Trackbar', config[\"HL\"], 255, GUIHandle)\n",
    "cv2.createTrackbar('Sat Low', 'Trackbar', config[\"SL\"], 255, GUIHandle)\n",
    "cv2.createTrackbar('Val Low', 'Trackbar', config[\"VL\"], 255, GUIHandle)\n",
    "cv2.createTrackbar('Hue High', 'Trackbar', config[\"HH\"], 255, GUIHandle)\n",
    "cv2.createTrackbar('Sat High', 'Trackbar', config[\"SH\"], 255, GUIHandle)\n",
    "cv2.createTrackbar('Val High', 'Trackbar', config[\"VH\"], 255, GUIHandle)\n",
    "\n",
    "# Calibration loop\n",
    "while cap.isOpened(): \n",
    "    ret, frame = cap.read()\n",
    "    \n",
    "    # Convert the frame to HSV and read trackbar inputs\n",
    "    hsv = cv2.cvtColor(frame,cv2.COLOR_BGR2HSV)\n",
    "    config[\"HL\"] = cv2.getTrackbarPos('Hue Low', 'Trackbar')\n",
    "    config[\"SL\"] = cv2.getTrackbarPos('Sat Low', 'Trackbar')\n",
    "    config[\"VL\"] = cv2.getTrackbarPos('Val Low', 'Trackbar')\n",
    "    config[\"HH\"] = cv2.getTrackbarPos('Hue High', 'Trackbar')\n",
    "    config[\"SH\"] = cv2.getTrackbarPos('Sat High', 'Trackbar')\n",
    "    config[\"VH\"] = cv2.getTrackbarPos('Val High', 'Trackbar')\n",
    "    \n",
    "    # Lock sliders so that they cannot invert\n",
    "    if (config[\"HL\"] > config[\"HH\"]):\n",
    "        cv2.setTrackbarPos('Hue Low', 'Trackbar', config[\"HH\"])\n",
    "    if (config[\"SL\"] > config[\"SH\"]):\n",
    "        cv2.setTrackbarPos('Sat Low', 'Trackbar', config[\"SH\"])\n",
    "    if (config[\"VL\"] > config[\"VH\"]):\n",
    "        cv2.setTrackbarPos('Val Low', 'Trackbar', config[\"VH\"])\n",
    "    \n",
    "    # Perform thresholding according to the specified values\n",
    "    thresh = cv2.inRange(hsv, (config[\"HL\"], config[\"SL\"], config[\"VL\"]), (config[\"HH\"], config[\"SH\"], config[\"VH\"]))\n",
    "    \n",
    "    # Show images\n",
    "    cv2.imshow('Camera', frame)\n",
    "    cv2.imshow('Threshold', thresh)\n",
    "    \n",
    "    if cv2.waitKey(1) & 0xFF == ord('q'):\n",
    "        cap.release()\n",
    "        cv2.destroyAllWindows()\n",
    "        break\n",
    "    elif cv2.waitKey(1) & 0xFF == ord('e'):\n",
    "        file = open(\"Config\\config.dat\", \"w\")\n",
    "        configToStr = repr(config)\n",
    "        file.write(configToStr + \"\\n\")\n",
    "        file.close()\n",
    "        cv2.destroyAllWindows()\n",
    "        break"
   ]
  },
  {
   "cell_type": "code",
   "execution_count": null,
   "metadata": {},
   "outputs": [],
   "source": []
  }
 ],
 "metadata": {
  "kernelspec": {
   "display_name": "Python 3 (ipykernel)",
   "language": "python",
   "name": "python3"
  },
  "language_info": {
   "codemirror_mode": {
    "name": "ipython",
    "version": 3
   },
   "file_extension": ".py",
   "mimetype": "text/x-python",
   "name": "python",
   "nbconvert_exporter": "python",
   "pygments_lexer": "ipython3",
   "version": "3.9.6"
  }
 },
 "nbformat": 4,
 "nbformat_minor": 2
}
